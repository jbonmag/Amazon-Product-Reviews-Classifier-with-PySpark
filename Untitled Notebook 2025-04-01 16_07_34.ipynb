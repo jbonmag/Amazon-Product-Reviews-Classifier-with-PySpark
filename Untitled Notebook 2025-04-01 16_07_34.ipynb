{
 "cells": [
  {
   "cell_type": "code",
   "execution_count": 0,
   "metadata": {
    "application/vnd.databricks.v1+cell": {
     "cellMetadata": {
      "byteLimit": 2048000,
      "rowLimit": 10000
     },
     "inputWidgets": {},
     "nuid": "827349d9-502e-4311-a24d-06f8b63a4caf",
     "showTitle": false,
     "tableResultSettingsMap": {},
     "title": ""
    }
   },
   "outputs": [
    {
     "output_type": "display_data",
     "data": {
      "text/html": [
       "<style scoped>\n",
       "  .table-result-container {\n",
       "    max-height: 300px;\n",
       "    overflow: auto;\n",
       "  }\n",
       "  table, th, td {\n",
       "    border: 1px solid black;\n",
       "    border-collapse: collapse;\n",
       "  }\n",
       "  th, td {\n",
       "    padding: 5px;\n",
       "  }\n",
       "  th {\n",
       "    text-align: left;\n",
       "  }\n",
       "</style><div class='table-result-container'><table class='table-result'><thead style='background-color: white'><tr><th>AUC</th></tr></thead><tbody><tr><td>0.890</td></tr></tbody></table></div>"
      ]
     },
     "metadata": {
      "application/vnd.databricks.v1+output": {
       "addedWidgets": {},
       "aggData": [],
       "aggError": "",
       "aggOverflow": false,
       "aggSchema": [],
       "aggSeriesLimitReached": false,
       "aggType": "",
       "arguments": {},
       "columnCustomDisplayInfos": {},
       "data": [
        [
         "0.890"
        ]
       ],
       "datasetInfos": [],
       "dbfsResultPath": null,
       "isJsonSchema": true,
       "metadata": {},
       "overflow": false,
       "plotOptions": {
        "customPlotOptions": {},
        "displayType": "table",
        "pivotAggregation": null,
        "pivotColumns": null,
        "xColumns": null,
        "yColumns": null
       },
       "removedWidgets": [],
       "schema": [
        {
         "metadata": "{}",
         "name": "AUC",
         "type": "\"string\""
        }
       ],
       "type": "table"
      }
     },
     "output_type": "display_data"
    },
    {
     "output_type": "stream",
     "name": "stdout",
     "output_type": "stream",
     "text": [
      "+------------------------------------------------------------------------------------------------------------------------------------------------------------------------------------------------------------------------------------------------------------------------------------------------------------------------------------------------------------------------------------------------------------------------------------------------------------------------------------------------------------------------------------------------------------------------------------------------------------------------------+------+--------+----------+------------------------------------------+\n|texto                                                                                                                                                                                                                                                                                                                                                                                                                                                                                                                                                                                                                         |rating|etiqueta|prediction|probability                               |\n+------------------------------------------------------------------------------------------------------------------------------------------------------------------------------------------------------------------------------------------------------------------------------------------------------------------------------------------------------------------------------------------------------------------------------------------------------------------------------------------------------------------------------------------------------------------------------------------------------------------------------+------+--------+----------+------------------------------------------+\n|\"Amazon Tap is a great device. The device has very good audio quality despite it's small size. The biggest difference between this and the larger Amazon Echo, is that you have to press the \"\"microphone\"\" button before the device will listen to you (which is great for people who are concerned that the Echo is always listening to what you say). So far                                                                                                                                                                                                                                                               |5     |1       |1.0       |[3.578989419528858E-19,1.0]               |\n|\"Bought the Tap for my mom to primarily listen to music. Although my mom forgets \"\"the girl's name\"\" haha                                                                                                                                                                                                                                                                                                                                                                                                                                                                                                                     |5     |1       |1.0       |[1.681866665197695E-23,1.0]               |\n|\"Excellent sound and fun. Very portable and easy to carry in backpack. All the features of Echo and Echo Dot but you must \"\"Tap\"\" the button before speaking.\"                                                                                                                                                                                                                                                                                                                                                                                                                                                                |5     |1       |1.0       |[1.0945446191067927E-27,1.0]              |\n|\"I have grown very accustomed to having Alexa around. There are new skills added on a very regular basis. I really enjoy just pressing a button and asking for a song/radio station/podcast to be played. I also enjoy having books read to me, since I'm not much of a reader. The setup was super simple, so simple that I wasn't sure that I was all ready to go with such minimal effort. The battery life is very long and the speaker suits me just fine. I feel that there is a bright future for the Tap and I am going to enjoy trying more things that this gadget has to offer. I'm not sure I \"\"needed\"\" this item|5     |1       |1.0       |[7.435758165161836E-100,1.0]              |\n|\"If you have an Amazon Echo already then you know what a great gadget it is. This is Echo in baby size and portable. The newer version can be \"\"woken up\"\" with your voice like its big sister or you can program it to only respond when you push the mike button. It had all the features of Echo and excellent sound for its size. I have it in the bedroom and use it as an alarm and music when I get dressed. All in all a great item for the price.\"                                                                                                                                                                   |5     |1       |1.0       |[2.1342077528976848E-54,1.0]              |\n|\"The Amazon Tap is a perfect complement to our Amazon Echo. Put this in our office space...has all the advantages of the Echo and is also a great Bluetooth speaker. Having to \"\"tap\"\" the mic button to summon Alexa is no issue at all! Sound quality is as good as any Bluetooth speaker on the market and it's extremely portable.\"                                                                                                                                                                                                                                                                                       |5     |1       |1.0       |[4.385195940827251E-62,1.0]               |\n|..exactly what I wanted, but the battery drains FAST when on hands free mode.                                                                                                                                                                                                                                                                                                                                                                                                                                                                                                                                                 |4     |1       |0.0       |[0.9998879136565643,1.1208634343573554E-4]|\n|100 QUALITY ALL AROUND                                                                                                                                                                                                                                                                                                                                                                                                                                                                                                                                                                                                        |5     |1       |1.0       |[1.7328052369152514E-4,0.9998267194763085]|\n|3 of them exploted and damage my charger that I bought here what is going to happen with my charger not satisfied with the batteries                                                                                                                                                                                                                                                                                                                                                                                                                                                                                          |1     |0       |1.0       |[0.06758628186697493,0.9324137181330251]  |\n|3/4 of the package have been duds. Lasted about 15 minutes. Now I get to go to the trouble to return them. When you shop with Amazon, it's to save time. This defeats that purpose.                                                                                                                                                                                                                                                                                                                                                                                                                                           |1     |0       |0.0       |[1.0,0.0]                                 |\n+------------------------------------------------------------------------------------------------------------------------------------------------------------------------------------------------------------------------------------------------------------------------------------------------------------------------------------------------------------------------------------------------------------------------------------------------------------------------------------------------------------------------------------------------------------------------------------------------------------------------------+------+--------+----------+------------------------------------------+\nonly showing top 10 rows\n\n"
     ]
    }
   ],
   "source": [
    "from pyspark.sql import SparkSession\n",
    "from pyspark.sql.functions import when, col, lower, regexp_replace\n",
    "from pyspark.ml.feature import Tokenizer, StopWordsRemover, HashingTF, IDF\n",
    "from pyspark.ml.classification import LogisticRegression\n",
    "from pyspark.ml import Pipeline\n",
    "from pyspark.ml.evaluation import BinaryClassificationEvaluator\n",
    "\n",
    "# 1. Crear sesión de Spark\n",
    "spark = SparkSession.builder.appName(\"AmazonReviewsPipeline\").getOrCreate()\n",
    "\n",
    "# 2. Cargar el CSV desde DBFS\n",
    "file_path = \"/FileStore/tables/Datafiniti_Amazon_Consumer_Reviews_of_Amazon_Products_May19.csv\"\n",
    "data = spark.read.csv(file_path, header=True, inferSchema=True)\n",
    "\n",
    "# 3. Seleccionar y renombrar columnas\n",
    "data = data.selectExpr(\"`reviews.text` as texto\", \"`reviews.rating` as rating\") \\\n",
    "           .dropna(subset=[\"texto\", \"rating\"])\n",
    "\n",
    "# 4. Crear columna binaria: 1 (positivo), 0 (negativo)\n",
    "data = data.withColumn(\"etiqueta\", when(col(\"rating\") >= 4, 1).when(col(\"rating\") <= 2, 0)) \\\n",
    "           .dropna(subset=[\"etiqueta\"])\n",
    "\n",
    "# 5. Limpiar el texto\n",
    "data = data.withColumn(\"texto_limpio\", lower(col(\"texto\")))\n",
    "data = data.withColumn(\"texto_limpio\", regexp_replace(col(\"texto_limpio\"), \"[^a-zA-Z\\\\s]\", \"\"))\n",
    "\n",
    "# 6. Construir pipeline de NLP + ML\n",
    "tokenizer = Tokenizer(inputCol=\"texto_limpio\", outputCol=\"palabras\")\n",
    "remover = StopWordsRemover(inputCol=\"palabras\", outputCol=\"palabras_limpias\")\n",
    "hashingTF = HashingTF(inputCol=\"palabras_limpias\", outputCol=\"raw_features\", numFeatures=10000)\n",
    "idf = IDF(inputCol=\"raw_features\", outputCol=\"features\")\n",
    "lr = LogisticRegression(labelCol=\"etiqueta\", featuresCol=\"features\")\n",
    "\n",
    "pipeline = Pipeline(stages=[tokenizer, remover, hashingTF, idf, lr])\n",
    "\n",
    "# 7. Entrenar y evaluar\n",
    "train, test = data.randomSplit([0.8, 0.2], seed=42)\n",
    "modelo = pipeline.fit(train)\n",
    "predicciones = modelo.transform(test)\n",
    "\n",
    "# 8. Evaluación con AUC\n",
    "evaluator = BinaryClassificationEvaluator(labelCol=\"etiqueta\")\n",
    "auc = evaluator.evaluate(predicciones)\n",
    "from pyspark.sql import Row\n",
    "display(spark.createDataFrame([Row(AUC=f\"{auc:.3f}\")]))\n",
    "\n",
    "# Muestra algunas predicciones con texto original\n",
    "predicciones.select(\"texto\", \"rating\", \"etiqueta\", \"prediction\", \"probability\").show(10, truncate=False)\n",
    "\n"
   ]
  }
 ],
 "metadata": {
  "application/vnd.databricks.v1+notebook": {
   "computePreferences": null,
   "dashboards": [],
   "environmentMetadata": {
    "base_environment": "",
    "environment_version": "1"
   },
   "inputWidgetPreferences": null,
   "language": "python",
   "notebookMetadata": {
    "pythonIndentUnit": 4
   },
   "notebookName": "Untitled Notebook 2025-04-01 16:07:34",
   "widgets": {}
  }
 },
 "nbformat": 4,
 "nbformat_minor": 0
}